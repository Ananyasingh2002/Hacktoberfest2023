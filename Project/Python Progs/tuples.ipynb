{
 "cells": [
  {
   "cell_type": "code",
   "execution_count": 1,
   "metadata": {},
   "outputs": [
    {
     "name": "stdout",
     "output_type": "stream",
     "text": [
      "(1, 2, 3) <class 'tuple'>\n"
     ]
    }
   ],
   "source": [
    "x = (1,2,3) # tuple\n",
    "x\n",
    "print(x, type(x))"
   ]
  },
  {
   "cell_type": "code",
   "execution_count": 4,
   "metadata": {},
   "outputs": [
    {
     "name": "stdout",
     "output_type": "stream",
     "text": [
      "(1, 3, 5, 7, 9) <class 'tuple'>\n"
     ]
    }
   ],
   "source": [
    "a = 1, 3, 5, 7, 9 # tuple packing\n",
    "print(a, type(a))"
   ]
  },
  {
   "cell_type": "code",
   "execution_count": 9,
   "metadata": {},
   "outputs": [
    {
     "name": "stdout",
     "output_type": "stream",
     "text": [
      "(1, 2, 3)\n",
      "1 2 3\n",
      "1 [2, 3]\n",
      "[1, 2] 3\n"
     ]
    }
   ],
   "source": [
    "t = (1,2,3)\n",
    "a = t\n",
    "print(a)\n",
    "a, b, c = t # tuple unpacking\n",
    "print(a, b, c)\n",
    "a, *b = t # a gets 1st element, b gets the rest\n",
    "print(a, b)\n",
    "*a, b = t # a gets the rest, b gets the last element\n",
    "print(a, b)"
   ]
  },
  {
   "cell_type": "code",
   "execution_count": 13,
   "metadata": {},
   "outputs": [
    {
     "name": "stdout",
     "output_type": "stream",
     "text": [
      "1 9 [2, 3, 4, 5, 6, 7, 8]\n"
     ]
    }
   ],
   "source": [
    "t2 = (1,2,3,4,5,6,7,8,9)\n",
    "x, *_, y = t2 # _ is a throwaway variable\n",
    "print(x, y, _)"
   ]
  },
  {
   "cell_type": "markdown",
   "metadata": {},
   "source": [
    "tuple methods\n",
    "- count\n",
    "- index"
   ]
  },
  {
   "cell_type": "code",
   "execution_count": 17,
   "metadata": {},
   "outputs": [
    {
     "name": "stdout",
     "output_type": "stream",
     "text": [
      "3\n",
      "0\n",
      "2\n"
     ]
    }
   ],
   "source": [
    "t2 = (3,3,31,1,1,2,2,3)\n",
    "print(t2.count(3)) # count the number of 3s in t2\n",
    "print(t2.index(3)) # index of the first 3 in t2\n",
    "print(t2.index(31)) \n"
   ]
  },
  {
   "cell_type": "code",
   "execution_count": 20,
   "metadata": {},
   "outputs": [
    {
     "name": "stdout",
     "output_type": "stream",
     "text": [
      "1 [2, 3]\n"
     ]
    }
   ],
   "source": [
    "a = (1,2,3)\n",
    "x1,x2,x3 = a\n",
    "\n",
    "x1, *x2 = a\n",
    "print(x1, x2)\n"
   ]
  },
  {
   "cell_type": "code",
   "execution_count": null,
   "metadata": {},
   "outputs": [],
   "source": []
  }
 ],
 "metadata": {
  "kernelspec": {
   "display_name": "base",
   "language": "python",
   "name": "python3"
  },
  "language_info": {
   "codemirror_mode": {
    "name": "ipython",
    "version": 3
   },
   "file_extension": ".py",
   "mimetype": "text/x-python",
   "name": "python",
   "nbconvert_exporter": "python",
   "pygments_lexer": "ipython3",
   "version": "3.11.5"
  },
  "orig_nbformat": 4
 },
 "nbformat": 4,
 "nbformat_minor": 2
}
